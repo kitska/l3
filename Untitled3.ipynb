{
 "cells": [
  {
   "cell_type": "code",
   "execution_count": 1,
   "metadata": {
    "trusted": true
   },
   "outputs": [],
   "source": [
    "%pip install xlrd\n",
    "%pip install openpyxl\n",
    "%pip install seaborn"
   ]
  },
  {
   "cell_type": "code",
   "execution_count": null,
   "metadata": {
    "trusted": true
   },
   "outputs": [],
   "source": [
    "import pandas as pd\n",
    "\n",
    "file_path = 'En_In.xls'\n",
    "data = pd.read_excel(file_path, skiprows=2)\n",
    "\n",
    "data = data.iloc[:, 2:]\n",
    "\n",
    "data.columns = ['Country', 'Energy Supply', 'Energy Supply per Capita', '% Renewable']"
   ]
  },
  {
   "cell_type": "code",
   "execution_count": null,
   "metadata": {
    "trusted": true
   },
   "outputs": [],
   "source": [
    "import numpy as np\n",
    "\n",
    "data['Energy Supply'] = pd.to_numeric(data['Energy Supply'], errors='coerce') * 1e6"
   ]
  },
  {
   "cell_type": "code",
   "execution_count": null,
   "metadata": {
    "trusted": true
   },
   "outputs": [],
   "source": [
    "country_replacements = {\n",
    "    \"Republic of Korea\": \"South Korea\",\n",
    "    \"United States of America\": \"United States\",\n",
    "    \"United Kingdom of Great Britain and Northern Ireland19\": \"United Kingdom\",\n",
    "    \"China, Hong Kong Special Administrative Region\": \"Hong Kong\"\n",
    "}\n",
    "\n",
    "data['Country'] = data['Country'].replace(country_replacements)"
   ]
  },
  {
   "cell_type": "code",
   "execution_count": null,
   "metadata": {
    "trusted": true
   },
   "outputs": [],
   "source": [
    "data['Country'] = data['Country'].str.replace(r'\\s*\\(.*?\\)', '', regex=True)\n",
    "data['Country'] = data['Country'].str.replace(r'\\d+', '', regex=True)\n",
    "data['Country'] = data['Country'].str.strip()"
   ]
  },
  {
   "cell_type": "code",
   "execution_count": 7,
   "metadata": {
    "trusted": true
   },
   "outputs": [
    {
     "data": {
      "text/html": [
       "<div>\n",
       "<style scoped>\n",
       "    .dataframe tbody tr th:only-of-type {\n",
       "        vertical-align: middle;\n",
       "    }\n",
       "\n",
       "    .dataframe tbody tr th {\n",
       "        vertical-align: top;\n",
       "    }\n",
       "\n",
       "    .dataframe thead th {\n",
       "        text-align: right;\n",
       "    }\n",
       "</style>\n",
       "<table border=\"1\" class=\"dataframe\">\n",
       "  <thead>\n",
       "    <tr style=\"text-align: right;\">\n",
       "      <th></th>\n",
       "      <th>Country</th>\n",
       "      <th>Energy Supply</th>\n",
       "      <th>Energy Supply per Capita</th>\n",
       "      <th>% Renewable</th>\n",
       "    </tr>\n",
       "  </thead>\n",
       "  <tbody>\n",
       "    <tr>\n",
       "      <th>18</th>\n",
       "      <td>American Samoa</td>\n",
       "      <td>NaN</td>\n",
       "      <td>...</td>\n",
       "      <td>0.641026</td>\n",
       "    </tr>\n",
       "    <tr>\n",
       "      <th>39</th>\n",
       "      <td>Bolivia</td>\n",
       "      <td>3.360000e+08</td>\n",
       "      <td>32</td>\n",
       "      <td>31.47712</td>\n",
       "    </tr>\n",
       "    <tr>\n",
       "      <th>179</th>\n",
       "      <td>South Korea</td>\n",
       "      <td>1.100700e+10</td>\n",
       "      <td>221</td>\n",
       "      <td>2.279353</td>\n",
       "    </tr>\n",
       "  </tbody>\n",
       "</table>\n",
       "</div>"
      ],
      "text/plain": [
       "            Country  Energy Supply Energy Supply per Capita % Renewable\n",
       "18   American Samoa            NaN                      ...    0.641026\n",
       "39          Bolivia   3.360000e+08                       32    31.47712\n",
       "179     South Korea   1.100700e+10                      221    2.279353"
      ]
     },
     "execution_count": 7,
     "metadata": {},
     "output_type": "execute_result"
    }
   ],
   "source": [
    "data.loc[data['Country'].isin(['American Samoa', 'South Korea', 'Bolivia'])]"
   ]
  },
  {
   "cell_type": "code",
   "execution_count": null,
   "metadata": {
    "trusted": true
   },
   "outputs": [],
   "source": [
    "gdp_file_path = 'gpd.csv'\n",
    "\n",
    "gdp_data = pd.read_csv(gdp_file_path, skiprows=4)\n",
    "\n",
    "columns = ['Country', 'Country Code', 'Indicator Name', 'Indicator Code'] + [str(year) for year in range(1960, 2016)]\n",
    "gdp_data.columns = columns\n",
    "\n",
    "country_replacements_gdp = {\n",
    "    \"Korea, Rep.\": \"South Korea\",\n",
    "    \"Iran, Islamic Rep.\": \"Iran\",\n",
    "    \"Hong Kong SAR, China\": \"Hong Kong\"\n",
    "}\n",
    "gdp_data['Country'] = gdp_data['Country'].replace(country_replacements_gdp)"
   ]
  },
  {
   "cell_type": "code",
   "execution_count": 9,
   "metadata": {
    "scrolled": true,
    "trusted": true
   },
   "outputs": [
    {
     "data": {
      "text/html": [
       "<div>\n",
       "<style scoped>\n",
       "    .dataframe tbody tr th:only-of-type {\n",
       "        vertical-align: middle;\n",
       "    }\n",
       "\n",
       "    .dataframe tbody tr th {\n",
       "        vertical-align: top;\n",
       "    }\n",
       "\n",
       "    .dataframe thead th {\n",
       "        text-align: right;\n",
       "    }\n",
       "</style>\n",
       "<table border=\"1\" class=\"dataframe\">\n",
       "  <thead>\n",
       "    <tr style=\"text-align: right;\">\n",
       "      <th></th>\n",
       "      <th>Country</th>\n",
       "      <th>Country Code</th>\n",
       "      <th>Indicator Name</th>\n",
       "      <th>Indicator Code</th>\n",
       "      <th>1960</th>\n",
       "      <th>1961</th>\n",
       "      <th>1962</th>\n",
       "      <th>1963</th>\n",
       "      <th>1964</th>\n",
       "      <th>1965</th>\n",
       "      <th>...</th>\n",
       "      <th>2006</th>\n",
       "      <th>2007</th>\n",
       "      <th>2008</th>\n",
       "      <th>2009</th>\n",
       "      <th>2010</th>\n",
       "      <th>2011</th>\n",
       "      <th>2012</th>\n",
       "      <th>2013</th>\n",
       "      <th>2014</th>\n",
       "      <th>2015</th>\n",
       "    </tr>\n",
       "  </thead>\n",
       "  <tbody>\n",
       "    <tr>\n",
       "      <th>0</th>\n",
       "      <td>Aruba</td>\n",
       "      <td>ABW</td>\n",
       "      <td>GDP at market prices (constant 2010 US$)</td>\n",
       "      <td>NY.GDP.MKTP.KD</td>\n",
       "      <td>NaN</td>\n",
       "      <td>NaN</td>\n",
       "      <td>NaN</td>\n",
       "      <td>NaN</td>\n",
       "      <td>NaN</td>\n",
       "      <td>NaN</td>\n",
       "      <td>...</td>\n",
       "      <td>NaN</td>\n",
       "      <td>NaN</td>\n",
       "      <td>NaN</td>\n",
       "      <td>NaN</td>\n",
       "      <td>2.467704e+09</td>\n",
       "      <td>NaN</td>\n",
       "      <td>NaN</td>\n",
       "      <td>NaN</td>\n",
       "      <td>NaN</td>\n",
       "      <td>NaN</td>\n",
       "    </tr>\n",
       "  </tbody>\n",
       "</table>\n",
       "<p>1 rows × 60 columns</p>\n",
       "</div>"
      ],
      "text/plain": [
       "  Country Country Code                            Indicator Name  \\\n",
       "0   Aruba          ABW  GDP at market prices (constant 2010 US$)   \n",
       "\n",
       "   Indicator Code  1960  1961  1962  1963  1964  1965  ...  2006  2007  2008  \\\n",
       "0  NY.GDP.MKTP.KD   NaN   NaN   NaN   NaN   NaN   NaN  ...   NaN   NaN   NaN   \n",
       "\n",
       "   2009          2010  2011  2012  2013  2014  2015  \n",
       "0   NaN  2.467704e+09   NaN   NaN   NaN   NaN   NaN  \n",
       "\n",
       "[1 rows x 60 columns]"
      ]
     },
     "execution_count": 9,
     "metadata": {},
     "output_type": "execute_result"
    }
   ],
   "source": [
    "gdp_data.head(1)"
   ]
  },
  {
   "cell_type": "code",
   "execution_count": null,
   "metadata": {
    "trusted": true
   },
   "outputs": [],
   "source": [
    "scimago_file_path = 'scimagojr.xlsx'\n",
    "scimago_data = pd.read_excel(scimago_file_path, sheet_name='Sheet1')\n",
    "\n",
    "country_replacements_scimago = {\n",
    "    \"United States of America\": \"United States\",\n",
    "    \"United Kingdom\": \"United Kingdom\"\n",
    "}\n",
    "scimago_data['Country'] = scimago_data['Country'].replace(country_replacements_scimago)\n",
    "\n",
    "scimago_top15 = scimago_data.head(15)\n",
    "scimago_top15 = scimago_top15.set_index('Country')\n",
    "\n",
    "data['Country'] = data['Country'].replace(country_replacements_scimago)\n",
    "data = data.set_index('Country')\n",
    "\n",
    "gdp_last_10_years = gdp_data[['Country'] + [str(year) for year in range(2006, 2016)]]\n",
    "gdp_last_10_years = gdp_last_10_years.set_index('Country')\n",
    "\n",
    "common_countries = scimago_top15.index.intersection(gdp_last_10_years.index).intersection(data.index)\n",
    "\n",
    "result = pd.merge(scimago_top15.loc[common_countries], gdp_last_10_years.loc[common_countries], left_index=True, right_index=True)\n",
    "result = pd.merge(result, data.loc[common_countries], left_index=True, right_index=True)"
   ]
  },
  {
   "cell_type": "code",
   "execution_count": 11,
   "metadata": {
    "trusted": true
   },
   "outputs": [
    {
     "data": {
      "text/html": [
       "<div>\n",
       "<style scoped>\n",
       "    .dataframe tbody tr th:only-of-type {\n",
       "        vertical-align: middle;\n",
       "    }\n",
       "\n",
       "    .dataframe tbody tr th {\n",
       "        vertical-align: top;\n",
       "    }\n",
       "\n",
       "    .dataframe thead th {\n",
       "        text-align: right;\n",
       "    }\n",
       "</style>\n",
       "<table border=\"1\" class=\"dataframe\">\n",
       "  <thead>\n",
       "    <tr style=\"text-align: right;\">\n",
       "      <th></th>\n",
       "      <th>Rank</th>\n",
       "      <th>Documents</th>\n",
       "      <th>Citable documents</th>\n",
       "      <th>Citations</th>\n",
       "      <th>Self-citations</th>\n",
       "      <th>Citations per document</th>\n",
       "      <th>H index</th>\n",
       "      <th>2006</th>\n",
       "      <th>2007</th>\n",
       "      <th>2008</th>\n",
       "      <th>2009</th>\n",
       "      <th>2010</th>\n",
       "      <th>2011</th>\n",
       "      <th>2012</th>\n",
       "      <th>2013</th>\n",
       "      <th>2014</th>\n",
       "      <th>2015</th>\n",
       "      <th>Energy Supply</th>\n",
       "      <th>Energy Supply per Capita</th>\n",
       "      <th>% Renewable</th>\n",
       "    </tr>\n",
       "    <tr>\n",
       "      <th>Country</th>\n",
       "      <th></th>\n",
       "      <th></th>\n",
       "      <th></th>\n",
       "      <th></th>\n",
       "      <th></th>\n",
       "      <th></th>\n",
       "      <th></th>\n",
       "      <th></th>\n",
       "      <th></th>\n",
       "      <th></th>\n",
       "      <th></th>\n",
       "      <th></th>\n",
       "      <th></th>\n",
       "      <th></th>\n",
       "      <th></th>\n",
       "      <th></th>\n",
       "      <th></th>\n",
       "      <th></th>\n",
       "      <th></th>\n",
       "      <th></th>\n",
       "    </tr>\n",
       "  </thead>\n",
       "  <tbody>\n",
       "    <tr>\n",
       "      <th>China</th>\n",
       "      <td>1</td>\n",
       "      <td>127050</td>\n",
       "      <td>126767</td>\n",
       "      <td>597237</td>\n",
       "      <td>411683</td>\n",
       "      <td>4.70</td>\n",
       "      <td>138</td>\n",
       "      <td>3.992331e+12</td>\n",
       "      <td>4.559041e+12</td>\n",
       "      <td>4.997775e+12</td>\n",
       "      <td>5.459247e+12</td>\n",
       "      <td>6.039659e+12</td>\n",
       "      <td>6.612490e+12</td>\n",
       "      <td>7.124978e+12</td>\n",
       "      <td>7.672448e+12</td>\n",
       "      <td>8.230121e+12</td>\n",
       "      <td>8.797999e+12</td>\n",
       "      <td>1.271910e+11</td>\n",
       "      <td>93</td>\n",
       "      <td>19.75491</td>\n",
       "    </tr>\n",
       "    <tr>\n",
       "      <th>United States</th>\n",
       "      <td>2</td>\n",
       "      <td>96661</td>\n",
       "      <td>94747</td>\n",
       "      <td>792274</td>\n",
       "      <td>265436</td>\n",
       "      <td>8.20</td>\n",
       "      <td>230</td>\n",
       "      <td>1.479230e+13</td>\n",
       "      <td>1.505540e+13</td>\n",
       "      <td>1.501149e+13</td>\n",
       "      <td>1.459484e+13</td>\n",
       "      <td>1.496437e+13</td>\n",
       "      <td>1.520402e+13</td>\n",
       "      <td>1.554216e+13</td>\n",
       "      <td>1.577367e+13</td>\n",
       "      <td>1.615662e+13</td>\n",
       "      <td>1.654857e+13</td>\n",
       "      <td>9.083800e+10</td>\n",
       "      <td>286</td>\n",
       "      <td>11.57098</td>\n",
       "    </tr>\n",
       "    <tr>\n",
       "      <th>Japan</th>\n",
       "      <td>3</td>\n",
       "      <td>30504</td>\n",
       "      <td>30287</td>\n",
       "      <td>223024</td>\n",
       "      <td>61554</td>\n",
       "      <td>7.31</td>\n",
       "      <td>134</td>\n",
       "      <td>5.496542e+12</td>\n",
       "      <td>5.617036e+12</td>\n",
       "      <td>5.558527e+12</td>\n",
       "      <td>5.251308e+12</td>\n",
       "      <td>5.498718e+12</td>\n",
       "      <td>5.473738e+12</td>\n",
       "      <td>5.569102e+12</td>\n",
       "      <td>5.644659e+12</td>\n",
       "      <td>5.642884e+12</td>\n",
       "      <td>5.669563e+12</td>\n",
       "      <td>1.898400e+10</td>\n",
       "      <td>149</td>\n",
       "      <td>10.23282</td>\n",
       "    </tr>\n",
       "  </tbody>\n",
       "</table>\n",
       "</div>"
      ],
      "text/plain": [
       "               Rank  Documents  Citable documents  Citations  Self-citations  \\\n",
       "Country                                                                        \n",
       "China             1     127050             126767     597237          411683   \n",
       "United States     2      96661              94747     792274          265436   \n",
       "Japan             3      30504              30287     223024           61554   \n",
       "\n",
       "               Citations per document  H index          2006          2007  \\\n",
       "Country                                                                      \n",
       "China                            4.70      138  3.992331e+12  4.559041e+12   \n",
       "United States                    8.20      230  1.479230e+13  1.505540e+13   \n",
       "Japan                            7.31      134  5.496542e+12  5.617036e+12   \n",
       "\n",
       "                       2008          2009          2010          2011  \\\n",
       "Country                                                                 \n",
       "China          4.997775e+12  5.459247e+12  6.039659e+12  6.612490e+12   \n",
       "United States  1.501149e+13  1.459484e+13  1.496437e+13  1.520402e+13   \n",
       "Japan          5.558527e+12  5.251308e+12  5.498718e+12  5.473738e+12   \n",
       "\n",
       "                       2012          2013          2014          2015  \\\n",
       "Country                                                                 \n",
       "China          7.124978e+12  7.672448e+12  8.230121e+12  8.797999e+12   \n",
       "United States  1.554216e+13  1.577367e+13  1.615662e+13  1.654857e+13   \n",
       "Japan          5.569102e+12  5.644659e+12  5.642884e+12  5.669563e+12   \n",
       "\n",
       "               Energy Supply Energy Supply per Capita % Renewable  \n",
       "Country                                                            \n",
       "China           1.271910e+11                       93    19.75491  \n",
       "United States   9.083800e+10                      286    11.57098  \n",
       "Japan           1.898400e+10                      149    10.23282  "
      ]
     },
     "execution_count": 11,
     "metadata": {},
     "output_type": "execute_result"
    }
   ],
   "source": [
    "result.head(3)"
   ]
  },
  {
   "cell_type": "code",
   "execution_count": 12,
   "metadata": {
    "trusted": true
   },
   "outputs": [
    {
     "data": {
      "text/plain": [
       "(15, 20)"
      ]
     },
     "execution_count": 12,
     "metadata": {},
     "output_type": "execute_result"
    }
   ],
   "source": [
    "result.shape"
   ]
  },
  {
   "cell_type": "code",
   "execution_count": null,
   "metadata": {
    "trusted": true
   },
   "outputs": [],
   "source": [
    "def average_gdp_top15():\n",
    "    years = [str(year) for year in range(2006, 2016)]\n",
    "    \n",
    "    gdp_years = gdp_last_10_years[years]\n",
    "    \n",
    "    avg_gdp = gdp_years.mean(axis=1)\n",
    "    \n",
    "    avg_gdp = avg_gdp.dropna()\n",
    "    \n",
    "    avg_gdp_filtered = avg_gdp[avg_gdp.index.isin(scimago_top15.index)]\n",
    "    \n",
    "    avg_gdp_sorted = avg_gdp_filtered.sort_values(ascending=False)\n",
    "    \n",
    "    return avg_gdp_sorted.head(15)"
   ]
  },
  {
   "cell_type": "code",
   "execution_count": 14,
   "metadata": {
    "trusted": true
   },
   "outputs": [
    {
     "data": {
      "text/plain": [
       "Country\n",
       "United States         1.536434e+13\n",
       "China                 6.348609e+12\n",
       "Japan                 5.542208e+12\n",
       "Germany               3.493025e+12\n",
       "France                2.681725e+12\n",
       "United Kingdom        2.487907e+12\n",
       "Brazil                2.189794e+12\n",
       "Italy                 2.120175e+12\n",
       "India                 1.769297e+12\n",
       "Canada                1.660647e+12\n",
       "Russian Federation    1.565459e+12\n",
       "Spain                 1.418078e+12\n",
       "Australia             1.164043e+12\n",
       "South Korea           1.106715e+12\n",
       "Iran                  4.441558e+11\n",
       "dtype: float64"
      ]
     },
     "execution_count": 14,
     "metadata": {},
     "output_type": "execute_result"
    }
   ],
   "source": [
    "average_gdp_top15()"
   ]
  },
  {
   "cell_type": "code",
   "execution_count": null,
   "metadata": {
    "trusted": true
   },
   "outputs": [],
   "source": [
    "def gdp_change_fifth_country():\n",
    "    avg_gdp_sorted = average_gdp_top15()\n",
    "    \n",
    "    fifth_country = avg_gdp_sorted.index[4]\n",
    "    \n",
    "    gdp_values = gdp_last_10_years.loc[fifth_country]\n",
    "    gdp_change = gdp_values.iloc[-1] - gdp_values.iloc[0]\n",
    "    \n",
    "    return (fifth_country, gdp_change)"
   ]
  },
  {
   "cell_type": "code",
   "execution_count": 16,
   "metadata": {
    "trusted": true
   },
   "outputs": [
    {
     "data": {
      "text/plain": [
       "('France', 153345695364.24023)"
      ]
     },
     "execution_count": 16,
     "metadata": {},
     "output_type": "execute_result"
    }
   ],
   "source": [
    "gdp_change_fifth_country()"
   ]
  },
  {
   "cell_type": "code",
   "execution_count": null,
   "metadata": {
    "trusted": true
   },
   "outputs": [],
   "source": [
    "import pandas as pd\n",
    "\n",
    "file_path = 'En_In.xls'\n",
    "data = pd.read_excel(file_path, skiprows=2)\n",
    "\n",
    "data = data.iloc[:, 2:]\n",
    "\n",
    "data.columns = ['Country', 'Energy Supply', 'Energy Supply per Capita', '% Renewable']\n",
    "data['% Renewable'] = pd.to_numeric(data['% Renewable'], errors='coerce')\n",
    "\n",
    "def max_renewable_energy():\n",
    "    max_renewable_value = data['% Renewable'].max()\n",
    "    \n",
    "    country_with_max_renewable = data[data['% Renewable'] == max_renewable_value]['Country'].values[0]\n",
    "    \n",
    "    max_renewable_value_str = f\"{max_renewable_value:.2f}\".replace('.', ',')\n",
    "    \n",
    "    return (country_with_max_renewable, max_renewable_value_str)"
   ]
  },
  {
   "cell_type": "code",
   "execution_count": 18,
   "metadata": {
    "trusted": true
   },
   "outputs": [
    {
     "data": {
      "text/plain": [
       "('Albania', '100,00')"
      ]
     },
     "execution_count": 18,
     "metadata": {},
     "output_type": "execute_result"
    }
   ],
   "source": [
    "max_renewable_energy()"
   ]
  },
  {
   "cell_type": "code",
   "execution_count": null,
   "metadata": {
    "trusted": true
   },
   "outputs": [],
   "source": [
    "import pandas as pd\n",
    "\n",
    "data['Energy Supply'] = pd.to_numeric(data['Energy Supply'].astype(str).str.replace(' ', '').str.replace(',', '.'), errors='coerce')\n",
    "data['Energy Supply per Capita'] = pd.to_numeric(data['Energy Supply per Capita'].astype(str).str.replace(' ', '').str.replace(',', '.'), errors='coerce')\n",
    "\n",
    "data['Population'] = data['Energy Supply'] / data['Energy Supply per Capita']\n",
    "\n",
    "def sixth_country_by_population():\n",
    "    sorted_data = data.sort_values(by='Population', ascending=False)\n",
    "    \n",
    "    if len(sorted_data) >= 6:\n",
    "        sixth_country = sorted_data.iloc[5]\n",
    "        \n",
    "        return (sixth_country['Country'], sixth_country['Population'])\n",
    "    else:\n",
    "        return None"
   ]
  },
  {
   "cell_type": "code",
   "execution_count": 20,
   "metadata": {
    "trusted": true
   },
   "outputs": [
    {
     "data": {
      "text/plain": [
       "('Pakistan', 179.25)"
      ]
     },
     "execution_count": 20,
     "metadata": {},
     "output_type": "execute_result"
    }
   ],
   "source": [
    "sixth_country_by_population()"
   ]
  },
  {
   "cell_type": "code",
   "execution_count": null,
   "metadata": {
    "trusted": true
   },
   "outputs": [],
   "source": [
    "import pandas as pd\n",
    "import numpy as np\n",
    "\n",
    "\n",
    "def correlation_citations_energy(data, scimago_data):\n",
    "    data['Country'] = data['Country'].astype(str)\n",
    "    scimago_data['Country'] = scimago_data['Country'].astype(str)\n",
    "\n",
    "    data['Energy Supply per Capita'] = pd.to_numeric(\n",
    "        data['Energy Supply per Capita'].astype(str).str.replace(' ', '').str.replace(',', '.'), errors='coerce')\n",
    "\n",
    "    scimago_data['Citations'] = pd.to_numeric(\n",
    "        scimago_data['Citations'].astype(str).str.replace(' ', '').str.replace(',', '.'), errors='coerce')\n",
    "\n",
    "\n",
    "    scimago_data = pd.merge(scimago_data, data[['Country', 'Population']], on='Country', how='inner')\n",
    "\n",
    "    scimago_data = scimago_data[scimago_data['Population'] > 0]\n",
    "\n",
    "    scimago_data['Citations per Capita'] = scimago_data['Citations'] / scimago_data['Population']\n",
    "\n",
    "    merged_data = pd.merge(scimago_data, data[['Country', 'Energy Supply per Capita']], on='Country', how='inner')\n",
    "\n",
    "    merged_data = merged_data[['Citations per Capita', 'Energy Supply per Capita']].dropna()\n",
    "\n",
    "    merged_data = merged_data[(merged_data['Citations per Capita'] != np.inf) & \n",
    "                              (merged_data['Energy Supply per Capita'] != np.inf)]\n",
    "\n",
    "    merged_data.columns = merged_data.columns.str.strip()\n",
    "\n",
    "\n",
    "    var_citations = merged_data['Citations per Capita'].var()\n",
    "    var_energy = merged_data['Energy Supply per Capita'].var()\n",
    "\n",
    "\n",
    "    correlation = merged_data['Citations per Capita'].corr(merged_data['Energy Supply per Capita'])\n",
    "\n",
    "    return correlation"
   ]
  },
  {
   "cell_type": "code",
   "execution_count": 22,
   "metadata": {
    "trusted": true
   },
   "outputs": [
    {
     "data": {
      "text/plain": [
       "0.3628561007662901"
      ]
     },
     "execution_count": 22,
     "metadata": {},
     "output_type": "execute_result"
    }
   ],
   "source": [
    "correlation_citations_energy(data, scimago_data)"
   ]
  },
  {
   "cell_type": "code",
   "execution_count": null,
   "metadata": {
    "trusted": true
   },
   "outputs": [],
   "source": [
    "import pandas as pd\n",
    "\n",
    "def create_renewable_indicator(data, scimago_data):\n",
    "    if '% Renewable' not in data.columns:\n",
    "        raise ValueError(\"Стовпець '% Renewable' не знайдено в DataFrame.\")\n",
    "    \n",
    "    if 'Rank' not in scimago_data.columns:\n",
    "        raise ValueError(\"Стовпець 'Rank' не знайдено в DataFrame scimago_data.\")\n",
    "\n",
    "    data['% Renewable'] = pd.to_numeric(data['% Renewable'], errors='coerce')\n",
    "\n",
    "    median_renewable = data['% Renewable'].median()\n",
    "\n",
    "    data['Renewable Indicator'] = (data['% Renewable'] >= median_renewable).astype(int)\n",
    "\n",
    "    merged_data = pd.merge(data, scimago_data[['Country', 'Rank']], on='Country', how='inner')\n",
    "\n",
    "    result = merged_data[['Country', 'Renewable Indicator', 'Rank']].set_index('Country').sort_values(by='Rank')\n",
    "\n",
    "    return result"
   ]
  },
  {
   "cell_type": "code",
   "execution_count": 24,
   "metadata": {
    "trusted": true
   },
   "outputs": [
    {
     "data": {
      "text/html": [
       "<div>\n",
       "<style scoped>\n",
       "    .dataframe tbody tr th:only-of-type {\n",
       "        vertical-align: middle;\n",
       "    }\n",
       "\n",
       "    .dataframe tbody tr th {\n",
       "        vertical-align: top;\n",
       "    }\n",
       "\n",
       "    .dataframe thead th {\n",
       "        text-align: right;\n",
       "    }\n",
       "</style>\n",
       "<table border=\"1\" class=\"dataframe\">\n",
       "  <thead>\n",
       "    <tr style=\"text-align: right;\">\n",
       "      <th></th>\n",
       "      <th>Renewable Indicator</th>\n",
       "      <th>Rank</th>\n",
       "    </tr>\n",
       "    <tr>\n",
       "      <th>Country</th>\n",
       "      <th></th>\n",
       "      <th></th>\n",
       "    </tr>\n",
       "  </thead>\n",
       "  <tbody>\n",
       "    <tr>\n",
       "      <th>Russian Federation</th>\n",
       "      <td>1</td>\n",
       "      <td>5</td>\n",
       "    </tr>\n",
       "    <tr>\n",
       "      <th>Canada</th>\n",
       "      <td>1</td>\n",
       "      <td>6</td>\n",
       "    </tr>\n",
       "    <tr>\n",
       "      <th>Germany</th>\n",
       "      <td>1</td>\n",
       "      <td>7</td>\n",
       "    </tr>\n",
       "    <tr>\n",
       "      <th>India</th>\n",
       "      <td>1</td>\n",
       "      <td>8</td>\n",
       "    </tr>\n",
       "    <tr>\n",
       "      <th>Brazil</th>\n",
       "      <td>1</td>\n",
       "      <td>15</td>\n",
       "    </tr>\n",
       "    <tr>\n",
       "      <th>...</th>\n",
       "      <td>...</td>\n",
       "      <td>...</td>\n",
       "    </tr>\n",
       "    <tr>\n",
       "      <th>Belize</th>\n",
       "      <td>1</td>\n",
       "      <td>185</td>\n",
       "    </tr>\n",
       "    <tr>\n",
       "      <th>Palau</th>\n",
       "      <td>1</td>\n",
       "      <td>186</td>\n",
       "    </tr>\n",
       "    <tr>\n",
       "      <th>Guyana</th>\n",
       "      <td>0</td>\n",
       "      <td>187</td>\n",
       "    </tr>\n",
       "    <tr>\n",
       "      <th>Saint Lucia</th>\n",
       "      <td>0</td>\n",
       "      <td>190</td>\n",
       "    </tr>\n",
       "    <tr>\n",
       "      <th>Mauritania</th>\n",
       "      <td>0</td>\n",
       "      <td>191</td>\n",
       "    </tr>\n",
       "  </tbody>\n",
       "</table>\n",
       "<p>151 rows × 2 columns</p>\n",
       "</div>"
      ],
      "text/plain": [
       "                    Renewable Indicator  Rank\n",
       "Country                                      \n",
       "Russian Federation                    1     5\n",
       "Canada                                1     6\n",
       "Germany                               1     7\n",
       "India                                 1     8\n",
       "Brazil                                1    15\n",
       "...                                 ...   ...\n",
       "Belize                                1   185\n",
       "Palau                                 1   186\n",
       "Guyana                                0   187\n",
       "Saint Lucia                           0   190\n",
       "Mauritania                            0   191\n",
       "\n",
       "[151 rows x 2 columns]"
      ]
     },
     "execution_count": 24,
     "metadata": {},
     "output_type": "execute_result"
    }
   ],
   "source": [
    "create_renewable_indicator(data, scimago_data)"
   ]
  },
  {
   "cell_type": "code",
   "execution_count": null,
   "metadata": {
    "trusted": true
   },
   "outputs": [],
   "source": [
    "import pandas as pd\n",
    "\n",
    "def group_countries_by_continent(data, continent_dict):\n",
    "    df = pd.DataFrame(data)\n",
    "    \n",
    "    df['Continent'] = df['Country'].map(continent_dict)\n",
    "\n",
    "    result = df.groupby('Continent')['Population'].agg(\n",
    "        size='count',\n",
    "        sum='sum',\n",
    "        mean='mean',\n",
    "        std='std'\n",
    "    ).reset_index()\n",
    "\n",
    "    result.set_index('Continent', inplace=True)\n",
    "\n",
    "    return result"
   ]
  },
  {
   "cell_type": "code",
   "execution_count": 26,
   "metadata": {
    "trusted": true
   },
   "outputs": [
    {
     "data": {
      "text/html": [
       "<div>\n",
       "<style scoped>\n",
       "    .dataframe tbody tr th:only-of-type {\n",
       "        vertical-align: middle;\n",
       "    }\n",
       "\n",
       "    .dataframe tbody tr th {\n",
       "        vertical-align: top;\n",
       "    }\n",
       "\n",
       "    .dataframe thead th {\n",
       "        text-align: right;\n",
       "    }\n",
       "</style>\n",
       "<table border=\"1\" class=\"dataframe\">\n",
       "  <thead>\n",
       "    <tr style=\"text-align: right;\">\n",
       "      <th></th>\n",
       "      <th>size</th>\n",
       "      <th>sum</th>\n",
       "      <th>mean</th>\n",
       "      <th>std</th>\n",
       "    </tr>\n",
       "    <tr>\n",
       "      <th>Continent</th>\n",
       "      <th></th>\n",
       "      <th></th>\n",
       "      <th></th>\n",
       "      <th></th>\n",
       "    </tr>\n",
       "  </thead>\n",
       "  <tbody>\n",
       "    <tr>\n",
       "      <th>Asia</th>\n",
       "      <td>1</td>\n",
       "      <td>1276.730769</td>\n",
       "      <td>1276.730769</td>\n",
       "      <td>NaN</td>\n",
       "    </tr>\n",
       "    <tr>\n",
       "      <th>Europe</th>\n",
       "      <td>2</td>\n",
       "      <td>223.869697</td>\n",
       "      <td>111.934848</td>\n",
       "      <td>44.639865</td>\n",
       "    </tr>\n",
       "    <tr>\n",
       "      <th>North America</th>\n",
       "      <td>1</td>\n",
       "      <td>35.239865</td>\n",
       "      <td>35.239865</td>\n",
       "      <td>NaN</td>\n",
       "    </tr>\n",
       "    <tr>\n",
       "      <th>South America</th>\n",
       "      <td>1</td>\n",
       "      <td>205.915254</td>\n",
       "      <td>205.915254</td>\n",
       "      <td>NaN</td>\n",
       "    </tr>\n",
       "  </tbody>\n",
       "</table>\n",
       "</div>"
      ],
      "text/plain": [
       "               size          sum         mean        std\n",
       "Continent                                               \n",
       "Asia              1  1276.730769  1276.730769        NaN\n",
       "Europe            2   223.869697   111.934848  44.639865\n",
       "North America     1    35.239865    35.239865        NaN\n",
       "South America     1   205.915254   205.915254        NaN"
      ]
     },
     "execution_count": 26,
     "metadata": {},
     "output_type": "execute_result"
    }
   ],
   "source": [
    "ContinentDict = {\n",
    "    'China': 'Asia',\n",
    "    'United States': 'North America',\n",
    "    'Japan': 'Asia',\n",
    "    'United Kingdom': 'Europe',\n",
    "    'Russian Federation': 'Europe',\n",
    "    'Canada': 'North America',\n",
    "    'Germany': 'Europe',\n",
    "    'India': 'Asia',\n",
    "    'France': 'Europe',\n",
    "    'South Korea': 'Asia',\n",
    "    'Italy': 'Europe',\n",
    "    'Spain': 'Europe',\n",
    "    'Iran': 'Asia',\n",
    "    'Australia': 'Australia',\n",
    "    'Brazil': 'South America'\n",
    "}\n",
    "\n",
    "group_countries_by_continent(data, ContinentDict)"
   ]
  },
  {
   "cell_type": "code",
   "execution_count": null,
   "metadata": {
    "trusted": true
   },
   "outputs": [
    {
     "data": {
      "image/png": "[encoded data removed]",
      "text/plain": [
       "<Figure size 1000x800 with 1 Axes>"
      ]
     },
     "metadata": {},
     "output_type": "display_data"
    }
   ],
   "source": [
    "import pandas as pd\n",
    "import matplotlib.pyplot as plt\n",
    "import seaborn as sns\n",
    "\n",
    "gdp_data = pd.read_csv('gpd.csv', skiprows=4) \n",
    "scimago_data = pd.read_excel('scimagojr.xlsx') \n",
    "energy_data = pd.read_excel('En_In.xls', skiprows=9)  \n",
    "\n",
    "columns = ['Country', 'Country Code', 'Indicator Name', 'Indicator Code'] + [str(year) for year in range(1960, 2016)]\n",
    "gdp_data.columns = columns\n",
    "\n",
    "ContinentDict = {\n",
    "    'China': 'Asia',\n",
    "    'United States': 'North America',\n",
    "    'Japan': 'Asia',\n",
    "    'United Kingdom': 'Europe',\n",
    "    'Russian Federation': 'Europe',\n",
    "    'Canada': 'North America',\n",
    "    'Germany': 'Europe',\n",
    "    'India': 'Asia',\n",
    "    'France': 'Europe',\n",
    "    'South Korea': 'Asia',\n",
    "    'Italy': 'Europe',\n",
    "    'Spain': 'Europe',\n",
    "    'Iran': 'Asia',\n",
    "    'Australia': 'Australia',\n",
    "    'Brazil': 'South America'\n",
    "}\n",
    "\n",
    "gdp_data = gdp_data[['Country', '2015']]\n",
    "gdp_data = gdp_data.rename(columns={'2015': 'GDP_2015'})\n",
    "\n",
    "scimago_data = scimago_data[['Country', 'Rank']]\n",
    "scimago_data['Country'] = scimago_data['Country'].astype(str)\n",
    "\n",
    "energy_data = energy_data[['Country', 'Renewable Electricity Production']]\n",
    "energy_data['Country'] = energy_data['Country'].astype(str)\n",
    "\n",
    "merged_data = pd.merge(gdp_data, scimago_data, on='Country', how='inner')\n",
    "merged_data = pd.merge(merged_data, energy_data, on='Country', how='inner')\n",
    "\n",
    "merged_data['Continent'] = merged_data['Country'].map(ContinentDict)\n",
    "\n",
    "plt.figure(figsize=(10, 8))\n",
    "\n",
    "sns.scatterplot(data=merged_data,\n",
    "                x='Renewable Electricity Production', y='Rank', size='GDP_2015', hue='Continent',\n",
    "                sizes=(20, 200), palette='Set1', legend=None, marker='o')\n",
    "\n",
    "plt.title('Bubble Chart: % Renewable vs. Rank (Bubble size corresponds to GDP 2015)')\n",
    "plt.xlabel('Renewable Electricity Production')\n",
    "plt.ylabel('Country Rank')\n",
    "plt.grid(True)\n",
    "\n",
    "plt.show()\n"
   ]
  },
  {
   "cell_type": "code",
   "execution_count": null,
   "metadata": {
    "trusted": true
   },
   "outputs": [],
   "source": []
  },
  {
   "cell_type": "code",
   "execution_count": null,
   "metadata": {
    "trusted": true
   },
   "outputs": [],
   "source": []
  }
 ],
 "metadata": {
  "kernelspec": {
   "display_name": "Python (Pyodide)",
   "language": "python",
   "name": "python"
  },
  "language_info": {
   "codemirror_mode": {
    "name": "python",
    "version": 3
   },
   "file_extension": ".py",
   "mimetype": "text/x-python",
   "name": "python",
   "nbconvert_exporter": "python",
   "pygments_lexer": "ipython3",
   "version": "3.8"
  }
 },
 "nbformat": 4,
 "nbformat_minor": 4
}
